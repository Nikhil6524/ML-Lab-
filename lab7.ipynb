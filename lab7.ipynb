{
 "cells": [
  {
   "cell_type": "code",
   "execution_count": 1,
   "metadata": {},
   "outputs": [
    {
     "name": "stdout",
     "output_type": "stream",
     "text": [
      "** AND Gate Results **\n",
      "Accuracy: 100.00%\n",
      "** XOR Gate Results **\n",
      "Accuracy: 100.00%\n"
     ]
    }
   ],
   "source": [
    "#10\n",
    "from sklearn.neural_network import MLPClassifier\n",
    "import numpy as np\n",
    "from sklearn.preprocessing import StandardScaler  # Import StandardScaler for data scaling\n",
    "\n",
    "# Define training data (mapped outputs for 0 and 1)\n",
    "def get_mapped_data(logic_gate):\n",
    "  if logic_gate == \"AND\":\n",
    "    inputs = np.array([[0, 0], [0, 1], [1, 0], [1, 1]])\n",
    "    targets = np.array([[1, 0], [1, 0], [1, 0], [0, 1]])  # 1 for 0, 0 for 1\n",
    "  elif logic_gate == \"XOR\":\n",
    "    inputs = np.array([[0, 0], [0, 1], [1, 0], [1, 1]])\n",
    "    targets = np.array([[0, 1], [1, 0], [1, 0], [0, 1]])  # 0 for 0, 1 for 1\n",
    "  else:\n",
    "    raise ValueError(\"Invalid logic gate specified. Choose 'AND' or 'XOR'.\")\n",
    "  return inputs, targets\n",
    "\n",
    "# Train and evaluate the MLPClassifier\n",
    "def train_and_evaluate(logic_gate):\n",
    "  inputs, targets = get_mapped_data(logic_gate)\n",
    "\n",
    "  # Standardize the input data (may improve convergence for XOR)\n",
    "  scaler = StandardScaler()\n",
    "  inputs_scaled = scaler.fit_transform(inputs)\n",
    "\n",
    "  # Create the MLPClassifier with a single hidden layer, ReLU activation, and increased max_iter\n",
    "  clf = MLPClassifier(solver='lbfgs', alpha=0.01, hidden_layer_sizes=(4,), activation='relu', random_state=1, max_iter=1000)\n",
    "  clf.fit(inputs_scaled, targets)\n",
    "\n",
    "  # Make predictions and calculate accuracy\n",
    "  predictions = clf.predict(inputs_scaled)\n",
    "  accuracy = np.mean(predictions == targets) * 100\n",
    "  print(f\"** {logic_gate.upper()} Gate Results **\")\n",
    "  print(f\"Accuracy: {accuracy:.2f}%\")\n",
    "# Run for both AND and XOR gates\n",
    "train_and_evaluate(\"AND\")\n",
    "train_and_evaluate(\"XOR\")"
   ]
  },
  {
   "cell_type": "code",
   "execution_count": 3,
   "metadata": {},
   "outputs": [],
   "source": []
  }
 ],
 "metadata": {
  "kernelspec": {
   "display_name": "Python 3",
   "language": "python",
   "name": "python3"
  },
  "language_info": {
   "codemirror_mode": {
    "name": "ipython",
    "version": 3
   },
   "file_extension": ".py",
   "mimetype": "text/x-python",
   "name": "python",
   "nbconvert_exporter": "python",
   "pygments_lexer": "ipython3",
   "version": "3.11.4"
  }
 },
 "nbformat": 4,
 "nbformat_minor": 2
}
